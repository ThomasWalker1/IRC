{
 "cells": [
  {
   "cell_type": "code",
   "execution_count": 1,
   "metadata": {},
   "outputs": [],
   "source": [
    "# Import necessary libraries\n",
    "import numpy as np\n",
    "import matplotlib.pyplot as plt"
   ]
  },
  {
   "cell_type": "code",
   "execution_count": 2,
   "metadata": {},
   "outputs": [],
   "source": [
    "# Defining the model for cancer\n",
    "\n",
    "def model_update(states, drug_infusion):\n",
    "    dt = 0.01\n",
    "    normal, tumor, immune, drug_con = states\n",
    "    parameters_a = [0.2,0.3,0.1]\n",
    "    parameters_b = [1,1]\n",
    "    parameters_c = [1,0.5,1,1]\n",
    "    parameters_d = [0.2,1]\n",
    "    parameters_r = [1.5,1]\n",
    "    s = 0.33\n",
    "    alpha = 0.3\n",
    "    rho = 0.01\n",
    "    N=int(1//dt)\n",
    "    for n in range(0,N):\n",
    "        pre_normal, pre_tumor, pre_immune, pre_drug_con = normal, tumor, immune, drug_con\n",
    "        normal+=(parameters_r[1]*pre_normal*(1-parameters_b[1]*pre_normal)\n",
    "                 -parameters_c[3]*pre_normal*pre_tumor\n",
    "                 -parameters_a[2]*pre_normal*pre_drug_con)*dt\n",
    "        tumor+=(parameters_r[0]*pre_tumor*(1-parameters_b[0]*pre_tumor)\n",
    "                -parameters_c[1]*pre_immune*pre_tumor\n",
    "                -parameters_c[2]*pre_tumor*pre_normal\n",
    "                -parameters_a[1]*pre_tumor*pre_drug_con)*dt\n",
    "        immune+=(s+(rho*pre_immune*pre_tumor)/(alpha+pre_tumor)\n",
    "                 -parameters_c[0]*pre_immune*pre_tumor\n",
    "                 -parameters_d[0]*pre_immune\n",
    "                 -parameters_a[0]*pre_immune*pre_drug_con)*dt\n",
    "        drug_con+=(-parameters_d[1]*pre_drug_con\n",
    "                   +drug_infusion)*dt\n",
    "\n",
    "    return [normal, tumor, immune, drug_con]"
   ]
  },
  {
   "cell_type": "code",
   "execution_count": 3,
   "metadata": {},
   "outputs": [],
   "source": [
    "u_max=10\n",
    "action_space = np.linspace(0,u_max,num=50) # Defining the action space\n",
    "state_space = np.arange(0,20,1) # Defining the state space\n",
    "state_table=[\n",
    "    0.0063,0.0125,0.025,\n",
    "    0.01,0.05,0.1,0.2,0.25,\n",
    "    0.3,0.35,0.4,0.45,0.5,0.55,\n",
    "    0.6,0.65,0.7,0.8,0.9,np.inf\n",
    "    ]\n",
    "\n",
    "def state_numbered(tumor_count):\n",
    "    ix = 0\n",
    "    while tumor_count>state_table[ix]:\n",
    "        ix+=1\n",
    "    return ix"
   ]
  },
  {
   "cell_type": "code",
   "execution_count": 4,
   "metadata": {},
   "outputs": [
    {
     "name": "stdout",
     "output_type": "stream",
     "text": [
      "Episode: 0\n",
      "Episode: 1000\n",
      "Episode: 2000\n",
      "Episode: 3000\n",
      "Episode: 4000\n",
      "Episode: 5000\n",
      "Episode: 6000\n",
      "Episode: 7000\n",
      "Episode: 8000\n",
      "Episode: 9000\n",
      "Episode: 10000\n",
      "Episode: 11000\n",
      "Episode: 12000\n",
      "Episode: 13000\n",
      "Episode: 14000\n",
      "Episode: 15000\n",
      "Episode: 16000\n",
      "Episode: 17000\n",
      "Episode: 18000\n",
      "Episode: 19000\n"
     ]
    }
   ],
   "source": [
    "# Q Learning\n",
    "\n",
    "def reward(e_1,e_2):\n",
    "    if e_2<e_1:\n",
    "        return (e_1-e_2)/e_1\n",
    "    return 0\n",
    "\n",
    "q_table=np.zeros([len(state_space), len(action_space)])\n",
    "\n",
    "for i in range(20000):\n",
    "    model = np.random.random(4)\n",
    "    state = state_numbered(model[1])\n",
    "\n",
    "    tumor_counts = [model[1]]\n",
    "\n",
    "    a=0.1\n",
    "    g=0.6\n",
    "    epsilon=0.1\n",
    "    done = False\n",
    "    while not done:\n",
    "        p = np.random.random()\n",
    "        if p<epsilon:\n",
    "            ix = np.random.randint(0,len(action_space))\n",
    "            action = action_space[ix]\n",
    "        else:\n",
    "            ix = np.argmax(q_table[state])\n",
    "            action = action_space[ix]\n",
    "        \n",
    "        model = model_update(model, action)\n",
    "        next_state = state_numbered(model[1])\n",
    "        r = reward(tumor_counts[-1], model[1])\n",
    "        tumor_counts.append(model[1])\n",
    "        if next_state==0:\n",
    "            done=True\n",
    "\n",
    "        old_value = q_table[state,ix]\n",
    "        next_max = np.max(q_table[next_state])\n",
    "\n",
    "        new_value = old_value+g*(r+g*next_max-old_value) \n",
    "        q_table[state,ix]=new_value\n",
    "        state = next_state\n",
    "    if i%1000==0:\n",
    "        print(f\"Episode: {i}\")"
   ]
  },
  {
   "cell_type": "code",
   "execution_count": 5,
   "metadata": {},
   "outputs": [
    {
     "data": {
      "image/png": "[encoded data removed]",
      "text/plain": [
       "<Figure size 432x288 with 2 Axes>"
      ]
     },
     "metadata": {
      "needs_background": "light"
     },
     "output_type": "display_data"
    }
   ],
   "source": [
    "# Evaluating the model\n",
    "\n",
    "model = [0.6,1,0.9,0.5]\n",
    "states = [model[1]]\n",
    "actions = []\n",
    "done = False\n",
    "\n",
    "while not done:\n",
    "    numbered_state = state_numbered(states[-1])\n",
    "    action = action_space[np.argmax(q_table[numbered_state])]\n",
    "    model = model_update(model, action)\n",
    "    actions.append(action)\n",
    "    states.append(model[1])\n",
    "    if state_numbered(states[-1])==0:\n",
    "        done = True\n",
    "\n",
    "f, (ax1, ax2) = plt.subplots(1, 2)\n",
    "ax1.plot(range(len(states)), states)\n",
    "ax2.plot(range(len(actions)), actions)\n",
    "plt.show()"
   ]
  }
 ],
 "metadata": {
  "kernelspec": {
   "display_name": "Python 3",
   "language": "python",
   "name": "python3"
  },
  "language_info": {
   "codemirror_mode": {
    "name": "ipython",
    "version": 3
   },
   "file_extension": ".py",
   "mimetype": "text/x-python",
   "name": "python",
   "nbconvert_exporter": "python",
   "pygments_lexer": "ipython3",
   "version": "3.8.8"
  },
  "vscode": {
   "interpreter": {
    "hash": "87c45c9fa338d254c7af859b02d158e07135bc8a08c08316825ce6bf06b146fb"
   }
  }
 },
 "nbformat": 4,
 "nbformat_minor": 2
}
