{
 "cells": [
  {
   "cell_type": "code",
   "execution_count": 42,
   "metadata": {},
   "outputs": [],
   "source": [
    "# Use this cell to define your strategy\n",
    "def my_strategy(board, player_number):\n",
    "    '''Write your strategy here\n",
    "    (param) board ([[int]*6]*7): The board the move will be taken on. For each position, will be 0 for unoccupied, 1 for occupied by player 1, 2 for occupied by player 2.\n",
    "    (param) int player_number The number of your pieces in the board\n",
    "    (return) int the number of the column you want your next move to be in (0 for the leftmost column, 6 for the rightmost)'''\n",
    "    #Write your code here\n",
    "    import random\n",
    "    if player_number==1:\n",
    "        o_player_number=2\n",
    "    else:\n",
    "        o_player_number=1\n",
    "    def game_update(board, col, player):\n",
    "        for ix in range(len(board[col])):\n",
    "            if board[col][ix]==0:\n",
    "                board[col][ix]=player\n",
    "                return board\n",
    "\n",
    "    def game_won(board):\n",
    "        game_lists=[]\n",
    "        for n in range(6):\n",
    "            col_list = []\n",
    "            for k in range(7):\n",
    "                col_list.append(str(board[k][n]))\n",
    "            game_lists.append(''.join(col_list))\n",
    "        for n in range(7):\n",
    "            row_list = []\n",
    "            for dig in board[n]:\n",
    "                row_list.append(str(dig))\n",
    "            game_lists.append(''.join(row_list))\n",
    "        game_lists.append(str(board[0][0])+str(board[1][1])+str(board[2][2])+str(board[3][3])+str(board[4][4])+str(board[5][5]))\n",
    "        game_lists.append(str(board[0][1])+str(board[1][2])+str(board[2][3])+str(board[3][4])+str(board[4][5]))\n",
    "        game_lists.append(str(board[0][2])+str(board[1][3])+str(board[2][4])+str(board[3][5]))\n",
    "        game_lists.append(str(board[1][0])+str(board[2][1])+str(board[3][2])+str(board[4][3])+str(board[5][4])+str(board[6][5]))\n",
    "        game_lists.append(str(board[2][0])+str(board[3][1])+str(board[4][2])+str(board[5][3])+str(board[6][4]))\n",
    "        game_lists.append(str(board[3][0])+str(board[4][1])+str(board[5][2])+str(board[6][3]))\n",
    "\n",
    "        game_lists.append(str(board[6][0])+str(board[5][1])+str(board[4][2])+str(board[3][3])+str(board[2][4])+str(board[1][5]))\n",
    "        game_lists.append(str(board[6][1])+str(board[5][2])+str(board[4][3])+str(board[3][4])+str(board[2][5]))\n",
    "        game_lists.append(str(board[6][2])+str(board[5][3])+str(board[4][4])+str(board[3][5]))\n",
    "        game_lists.append(str(board[5][0])+str(board[4][1])+str(board[3][2])+str(board[2][3])+str(board[1][4])+str(board[0][5]))\n",
    "        game_lists.append(str(board[4][0])+str(board[3][1])+str(board[2][2])+str(board[1][3])+str(board[0][4]))\n",
    "        game_lists.append(str(board[3][0])+str(board[2][1])+str(board[1][2])+str(board[0][3]))\n",
    "        def checker(string_list):\n",
    "            for string in string_list:\n",
    "                if '1111' in string:\n",
    "                    return 1\n",
    "                elif '2222' in string:\n",
    "                    return 2\n",
    "            return 0\n",
    "        return checker(game_lists)\n",
    "\n",
    "    columns_free_spots=[0,0,0,0,0,0,0]\n",
    "    for i in range(7):\n",
    "        for j in range(6):\n",
    "            if board[i][j]==0:\n",
    "                columns_free_spots[i]=6-j\n",
    "                break\n",
    "    columns_one_spot=[]\n",
    "    for k in range(7):\n",
    "        if columns_free_spots[k]>=1:\n",
    "            columns_one_spot.append(k)\n",
    "    for column in columns_one_spot:\n",
    "        if game_won(game_update(board, column, player_number))==player_number:\n",
    "            return column\n",
    "\n",
    "    N = len(columns_one_spot)\n",
    "    return columns_one_spot[random.randint(0,N-1)]\n",
    "    "
   ]
  },
  {
   "cell_type": "code",
   "execution_count": null,
   "metadata": {},
   "outputs": [],
   "source": [
    "# When you want to play against your strategy, run the cell above, then this cell\n",
    "from game.run_game import run_game\n",
    "from strategies import manual\n",
    "\n",
    "run_game(\"Your Strategy\", \"You\", my_strategy, manual.manual, move_duration=0.1)"
   ]
  },
  {
   "cell_type": "code",
   "execution_count": null,
   "metadata": {},
   "outputs": [],
   "source": [
    "# Run this cell to see your code play a single match against the opponent you will face in the assessment\n",
    "# Press enter to progress the game\n",
    "from game.run_game import run_game\n",
    "from assessment.assessor import random_opponent\n",
    "\n",
    "run_game(\"Your Strategy\", \"Opponent\", my_strategy, random_opponent, move_duration=-1)"
   ]
  },
  {
   "cell_type": "code",
   "execution_count": 43,
   "metadata": {},
   "outputs": [
    {
     "name": "stdout",
     "output_type": "stream",
     "text": [
      "                                                                                                    \n",
      "Results\n",
      "Wins: 918\n",
      "Draws: 0\n",
      "Losses: 82\n",
      "Forfeits: 0\n",
      "Mark: 83.02%\n"
     ]
    }
   ],
   "source": [
    "# When you're ready to run your strategy run the top cell, then this cell\n",
    "# You can do this as often as you like as you improve your strategy\n",
    "from assessment.assessor import assess, random_opponent\n",
    "\n",
    "assess(my_strategy)"
   ]
  }
 ],
 "metadata": {
  "kernelspec": {
   "display_name": "Python 3",
   "language": "python",
   "name": "python3"
  },
  "language_info": {
   "codemirror_mode": {
    "name": "ipython",
    "version": 3
   },
   "file_extension": ".py",
   "mimetype": "text/x-python",
   "name": "python",
   "nbconvert_exporter": "python",
   "pygments_lexer": "ipython3",
   "version": "3.9.5"
  },
  "orig_nbformat": 4,
  "vscode": {
   "interpreter": {
    "hash": "87c45c9fa338d254c7af859b02d158e07135bc8a08c08316825ce6bf06b146fb"
   }
  }
 },
 "nbformat": 4,
 "nbformat_minor": 2
}
