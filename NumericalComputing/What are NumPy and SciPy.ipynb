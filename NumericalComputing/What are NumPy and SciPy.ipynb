{
 "cells": [
  {
   "cell_type": "markdown",
   "metadata": {
    "id": "LJxGI53ggMoG"
   },
   "source": [
    "# What are NumPy and SciPy?\n",
    "\n",
    "[NumPy](https://numpy.org/) and [SciPy](https://www.scipy.org/) are two of the most commonly used modules in Python. They contain functionality which allows large amounts of data to be handled easily and efficiently and provided functions to allow complex mathematical equations to be solved quickly, in terms of both coding time and running time.\n",
    "\n",
    "These modules are helpful because they give access to complex code designed by very competent coders to achieve particular goals. This allows you to include well-made code into your projects without writing it yourself. This can save a large amount of time compared to writing code yourself to produce the same results.\n",
    "\n",
    "In addition, the code used in NumPy contains a lot of code written in C and SciPy contains a lot of code written in C, C++ and Fortran. All of these languages are significantly more efficient that Python. The complexities of the interfaces between these languages if hidden inside the modules and the use of these languages means that using NumPy and SciPy will produce much better performance than even expertly written Python.\n",
    "\n",
    "For these reasons, NumPy and SciPy are vital and common tools in the toolkit of Python-based numerical programmer."
   ]
  }
 ],
 "metadata": {
  "colab": {
   "authorship_tag": "ABX9TyO50FYzmnH+CYpFFDCfPFER",
   "name": "What are NumPy and SciPy.ipynb",
   "provenance": []
  },
  "kernelspec": {
   "display_name": "Python 3",
   "language": "python",
   "name": "python3"
  },
  "language_info": {
   "codemirror_mode": {
    "name": "ipython",
    "version": 3
   },
   "file_extension": ".py",
   "mimetype": "text/x-python",
   "name": "python",
   "nbconvert_exporter": "python",
   "pygments_lexer": "ipython3",
   "version": "3.8.5"
  }
 },
 "nbformat": 4,
 "nbformat_minor": 1
}
