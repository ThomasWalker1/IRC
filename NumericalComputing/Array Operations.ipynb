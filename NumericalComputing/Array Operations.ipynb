{
 "cells": [
  {
   "cell_type": "markdown",
   "metadata": {
    "id": "euQr57ooLW_e"
   },
   "source": [
    "# Array Operations\n",
    "\n",
    "NumPy is not just good at storing large amounts of data, it's also very efficient at performing calculations and makes carrying out these calculations very convenient. This notebook discusses some of these calculations and the syntax used to invoke them."
   ]
  },
  {
   "cell_type": "markdown",
   "metadata": {
    "id": "u5i0HFbT8wPP"
   },
   "source": [
    "## Arithmetic Operations\n",
    "\n",
    "Simple arithmetic operators can be performed using NumPy arrays. When such an operation is placed between two NumPy arrays, the operation is performed \"element-wise\". This means that the operation is performed on each element of the arrays to create the corresponding element of the new array. For instance:"
   ]
  },
  {
   "cell_type": "code",
   "execution_count": null,
   "metadata": {
    "id": "JCRxTeXwLS4k"
   },
   "outputs": [],
   "source": [
    "import numpy as np\n",
    "\n",
    "a = np.array([2,4,6])\n",
    "b = np.array([1,3,5])\n",
    "\n",
    "print(\"Addition: \", a + b)\n",
    "print(\"Subtraction: \", a - b)\n",
    "print(\"Multiplication: \", a * b)\n",
    "print(\"Division: \", a / b)\n",
    "print(\"Exponentiation: \", a ** b)\n",
    "print(\"Integer Division: \", a // b)\n",
    "print(\"Modulo: \", a % b)\n",
    "print(\"Negative: \", -a)"
   ]
  },
  {
   "cell_type": "markdown",
   "metadata": {
    "id": "CsDS8CwtC-mw"
   },
   "source": [
    "Note that, when operating on arrays in this way, both arrays must be the same dimension and size."
   ]
  },
  {
   "cell_type": "code",
   "execution_count": null,
   "metadata": {
    "id": "YkAyNiKTBy62"
   },
   "outputs": [],
   "source": [
    "import numpy as np\n",
    "\n",
    "# These arrays have the same number of elements but a different number of dimensions\n",
    "a = np.arange(4).reshape([2,2])\n",
    "b = np.arange(1,5)\n",
    "\n",
    "print(a + b)"
   ]
  },
  {
   "cell_type": "markdown",
   "metadata": {
    "id": "nHMa3tm6DK-K"
   },
   "source": [
    "## Applying the Same Operation to Every Element\n",
    "\n",
    "It's possible to apply the same operation to every element of an array using an operator and a scalar value. The array and the integer may be in either order."
   ]
  },
  {
   "cell_type": "code",
   "execution_count": null,
   "metadata": {
    "id": "88r4jziiC78q"
   },
   "outputs": [],
   "source": [
    "import numpy as np\n",
    "\n",
    "a = np.arange(1, 4)\n",
    "print(\"a: \", a)\n",
    "print(\"Addition: \", 2 + a)\n",
    "print(\"Left Subtraction: \", 2 - a)\n",
    "print(\"Right Subtraction: \", a - 2)\n",
    "print(\"Multiplication: \", a * 2)\n",
    "print(\"Left Division: \", a / 2)\n",
    "print(\"Right Division: \", 2 / a)\n",
    "print(\"Left Exponentiation: \", 2 ** a)\n",
    "print(\"Right Exponentiation: \", a ** 2)\n",
    "print(\"Left Integer Division: \", 2 // a)\n",
    "print(\"Right Integer Division: \", a // 2)\n",
    "print(\"Left Modulo: \", 2 % a)\n",
    "print(\"Right Modulo: \", a % 2)"
   ]
  },
  {
   "cell_type": "markdown",
   "metadata": {
    "id": "TdepIcpKuhlC"
   },
   "source": [
    "## Exercise\n",
    "\n",
    "Look at the code in the cell below, but don't run it yet. Instead, write down what you think will be printed in each case. Then, run the code and check you get the results you expect."
   ]
  },
  {
   "cell_type": "code",
   "execution_count": null,
   "metadata": {
    "id": "cPW87SEVu2xR"
   },
   "outputs": [],
   "source": [
    "import numpy as np\n",
    "\n",
    "a = np.array([1, 2])\n",
    "b = np.array([3, 4])\n",
    "\n",
    "print(\"Case 1: \", a + b)\n",
    "print(\"Case 2: \", a / 2)\n",
    "print(\"Case 3: \", a ** b)\n",
    "print(\"Case 4: \", 2 - a)\n",
    "print(\"Case 5: \", a - b * 2) # Remember the order of operations"
   ]
  },
  {
   "cell_type": "markdown",
   "metadata": {
    "id": "dI0EufaRG5vq"
   },
   "source": [
    "## More Complex Functions\n",
    "\n",
    "Many complex mathematical functions which operate on scalars in Python are available from the ```math``` module, such as the ```sin``` function. These functions will work on NumPy arrays with a size of 1 (and return a scalar), but will not work on larger arrays:"
   ]
  },
  {
   "cell_type": "code",
   "execution_count": null,
   "metadata": {
    "id": "ujJ6d7hnI2Hb"
   },
   "outputs": [],
   "source": [
    "import numpy as np\n",
    "import math\n",
    "\n",
    "print(math.sin(2))\n",
    "print(math.sin(np.array([1])))\n",
    "print(math.sin(np.arange(3)))"
   ]
  },
  {
   "cell_type": "markdown",
   "metadata": {
    "id": "a9i2LXv0JW-i"
   },
   "source": [
    "Fortunately, many of these functions are replicated within the NumPy array and will operate element-wise on an array passed to it:"
   ]
  },
  {
   "cell_type": "code",
   "execution_count": null,
   "metadata": {
    "id": "UwkG-8HLDcAK"
   },
   "outputs": [],
   "source": [
    "import numpy as np\n",
    "\n",
    "# Here we multiply the array [1 2 3] by a quarter\n",
    "a = np.arange(1,4) * 0.25\n",
    "print(\"a: \", a)\n",
    "print(\"sin: \", np.sin(a))\n",
    "print(\"arccos: \", np.arccos(a))\n",
    "print(\"log: \", np.log(a))\n",
    "print(\"log2: \", np.log2(a))\n",
    "print(\"log10: \", np.log10(a))\n",
    "print(\"sqrt: \", np.sqrt(a))\n",
    "print(\"sum: \", np.sum(a))"
   ]
  },
  {
   "cell_type": "markdown",
   "metadata": {
    "id": "Oy9u2_oqeaxo"
   },
   "source": [
    "## Vector and Matrix Operations\n",
    "\n",
    "NumPy is designed to hold vectors, matrices, tensors and so on. It also contains functions to perform common operations relevant to these data types. For instance:"
   ]
  },
  {
   "cell_type": "code",
   "execution_count": null,
   "metadata": {
    "id": "8_l_TivNHFk3"
   },
   "outputs": [],
   "source": [
    "import numpy as np\n",
    "\n",
    "matrix = np.arange(4).reshape([2,2])\n",
    "vector1 = np.array([1,2])\n",
    "vector2 = np.array([3,4])\n",
    "\n",
    "print(\"Matrix: \", matrix)\n",
    "print(\"Vector1: \", vector1)\n",
    "print(\"Vector2: \", vector2)\n",
    "\n",
    "print(\"Dot product\", np.dot(vector1, vector2))\n",
    "print(\"Matrix-vector multiplication: \", np.matmul(matrix, vector1))\n",
    "print(\"Matrix-matrix multiplication: \", np.matmul(matrix, matrix))\n",
    "print(\"Matrix power: \", np.linalg.matrix_power(matrix, 3))\n",
    "print(\"Determinant: \", np.linalg.det(matrix))\n",
    "print(\"Transpose: \", np.transpose(matrix))\n",
    "print(\"Inverse: \", np.linalg.inv(matrix))\n",
    "print(\"Eigenvectors and eigenvalues: \", np.linalg.eig(matrix))"
   ]
  },
  {
   "cell_type": "markdown",
   "metadata": {
    "id": "prYsG9Ssnx5N"
   },
   "source": [
    "## Exercise\n",
    "\n",
    "A location in 3d Cartesian space may be represented by (x,y,z) coordinates. This may be represented by a\n",
    "dimension 1 array with size 3.\n",
    "\n",
    "In the cell below:\n",
    "* Create a 1d array with three elements to represent Position A, which is at (1,2,1)\n",
    "* Calculate the location of Position B, which has a displacement of (3,-4,1) from Position A\n",
    "* Calculate the location of Position C, which is twice as far from the origin as Position B\n",
    "* Calculate the location of position D, which is found by rotating position C 45$^{o}$ around the z axis (clockwise\n",
    "when viewed from above). To rotate a location around the z axis in this manner by an angle $\\theta$, it may be\n",
    "multiplied by the matrix:\n",
    "$\n",
    "\\begin{pmatrix}\n",
    "\\cos(\\theta) & -\\sin(\\theta) & 0 \\\\ \n",
    "\\sin(\\theta) & \\cos(\\theta) & 0 \\\\ \n",
    "0 & 0 & 1\n",
    "\\end{pmatrix}\n",
    "$\n",
    "* Calculate the straight line distance between Position D and the origin"
   ]
  },
  {
   "cell_type": "code",
   "execution_count": null,
   "metadata": {
    "id": "lykqChQktPed"
   },
   "outputs": [],
   "source": []
  },
  {
   "cell_type": "code",
   "execution_count": null,
   "metadata": {
    "cellView": "form",
    "id": "ZRj4xpGYXLnD"
   },
   "outputs": [],
   "source": [
    "#@title\n",
    "import numpy as np\n",
    "import math\n",
    "\n",
    "# Define Position A\n",
    "pos_a = np.array([1,2,1])\n",
    "print(\"Poition A: \", pos_a)\n",
    "\n",
    "# Add the specified displacement to position A to get position B\n",
    "pos_b = pos_a + np.array([3,-4,1])\n",
    "print(\"Position B: \", pos_b)\n",
    "\n",
    "# Double the values in position B to get position C\n",
    "pos_c = pos_b * 2\n",
    "print(\"Position C: \", pos_c)\n",
    "\n",
    "# Calcualte 45 degrees in radians\n",
    "radians_45 = 45 * math.pi / 180\n",
    "# Create the rotation matrix\n",
    "rotation_matrix = np.array([[math.cos(radians_45), -math.sin(radians_45), 0], [math.sin(radians_45), math.cos(radians_45), 0], [0,0,1]])\n",
    "print(\"Rotation matrix: \", rotation_matrix)\n",
    "# Operate of position C with the rotation matrix to get position D\n",
    "pos_d = np.matmul(rotation_matrix, pos_c)\n",
    "print(\"Position D: \", pos_d)\n",
    "\n",
    "# Calcualte the distance between position D and the origin\n",
    "distance_d = math.sqrt(np.dot(pos_d, pos_d))\n",
    "print(\"Distance: \", distance_d)"
   ]
  },
  {
   "cell_type": "markdown",
   "metadata": {
    "id": "2cfPmlVeD5xN"
   },
   "source": [
    "## Extension: Solving Matrix Equations and Sparse Matrices\n",
    "\n",
    "Sometimes it can be desirable to solve a matrix equation of the form $Mx=b$ where $M$ is a matrix, $b$ is a known vector and $x$ is an unknown vector whose value is to be found. For instance, consider the equation:\n",
    "\n",
    "$\\begin{pmatrix}\n",
    "1 & 2 & 3\\\\ \n",
    "2 & 1 & 0\\\\ \n",
    "4 & 2 & 1\n",
    "\\end{pmatrix}\n",
    "\\vec{x}\n",
    "=\n",
    "\\begin{pmatrix}\n",
    "4\\\\ \n",
    "5\\\\ \n",
    "10\n",
    "\\end{pmatrix}$\n",
    "\n",
    "We can use the ```linalg.solve``` function to solve an equation of this type as follows:"
   ]
  },
  {
   "cell_type": "code",
   "execution_count": null,
   "metadata": {
    "id": "Wu0240pJEAdt"
   },
   "outputs": [],
   "source": [
    "import numpy as np\n",
    "\n",
    "m = np.array([[1,2,3], [2,1,0], [4,2,1]])\n",
    "b = np.array([4,5,10])\n",
    "\n",
    "x = np.linalg.solve(m, b)\n",
    "\n",
    "print(x)"
   ]
  },
  {
   "cell_type": "markdown",
   "metadata": {
    "id": "b-TUc1BYIQXk"
   },
   "source": [
    "However, this function becomes slower and slower as the size of matrix gets larger. For a particular type of matrix that contains mostly zeros, this can be sped up by storing the matrix as a sparse matrix. This means that only non-zero values will be stored and only these non-zero values will be used in calculations. This dramatically reduces memory usage and the computational cost of the solving the matrix equation. There are may [types of sparse matrix included in SciPy](https://docs.scipy.org/doc/scipy/reference/sparse.html), but we will pick the [compressed row storage matrix](https://docs.scipy.org/doc/scipy/reference/generated/scipy.sparse.csr_matrix.html#scipy.sparse.csr_matrix) for this example (see [here](https://en.wikipedia.org/wiki/Sparse_matrix#Compressed_sparse_row_(CSR,_CRS_or_Yale_format) for a rough description of how this works). The matrix we will solve for will have the value of 1 along the central diagonal and -0.5 on the adjacent diagonals. The array on the left-hand side will have a value of 1.\n",
    "\n",
    "There are [many sovlers](https://docs.scipy.org/doc/scipy/reference/sparse.linalg.html) included to be used with sparse matrices. Which one to use is not always a simple question. For this example we'll use the [conjugate gradient solver](https://docs.scipy.org/doc/scipy/reference/generated/scipy.sparse.linalg.cg.html#scipy.sparse.linalg.cg) (see [here](https://docs.scipy.org/doc/scipy/reference/generated/scipy.sparse.linalg.cg.html#scipy.sparse.linalg.cg) for a description of how this method works)."
   ]
  },
  {
   "cell_type": "code",
   "execution_count": null,
   "metadata": {
    "id": "PWefU8KNFKHb"
   },
   "outputs": [],
   "source": [
    "from scipy.sparse import csr_matrix\n",
    "from scipy.sparse.linalg import cg\n",
    "\n",
    "# Provide the dimensions of the matrix as a tuple\n",
    "m = csr_matrix((1000, 1000))\n",
    "\n",
    "# Write values to the lead diagonal\n",
    "for i in range(1000):\n",
    "  m[i,i] = 1\n",
    "\n",
    "# Write values to the diagonals next to the lead diagonal\n",
    "for i in range(999):\n",
    "  m[i, i+1] = -0.5\n",
    "  m[i+1, i] = -0.5\n",
    "\n",
    "print(\"M:\")\n",
    "# When we print the matrix, the coordinates of the non-zero values and their values will be printed\n",
    "print(m)\n",
    "\n",
    "b = np.zeros(1000) + 1\n",
    "print(\"B: \", b)\n",
    "\n",
    "x = cg(m, b)\n",
    "\n",
    "# Note the zero that is included in the tuple that was returned is an integer which indicates teh conjugate gradient solver converged correctly and found a solution\n",
    "print(\"X: \", x)"
   ]
  },
  {
   "cell_type": "markdown",
   "metadata": {
    "id": "tEWHML18WGTP"
   },
   "source": [
    "This is an example of how Scipy can be used to solve linear algebra problems efficiently."
   ]
  }
 ],
 "metadata": {
  "colab": {
   "authorship_tag": "ABX9TyOSGsmoKYdTnuz0ywrUaRmc",
   "collapsed_sections": [],
   "name": "Array Operations.ipynb",
   "provenance": []
  },
  "kernelspec": {
   "display_name": "Python 3",
   "language": "python",
   "name": "python3"
  },
  "language_info": {
   "codemirror_mode": {
    "name": "ipython",
    "version": 3
   },
   "file_extension": ".py",
   "mimetype": "text/x-python",
   "name": "python",
   "nbconvert_exporter": "python",
   "pygments_lexer": "ipython3",
   "version": "3.8.5"
  }
 },
 "nbformat": 4,
 "nbformat_minor": 1
}
