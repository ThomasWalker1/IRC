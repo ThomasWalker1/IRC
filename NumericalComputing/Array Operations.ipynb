{
 "cells": [
  {
   "cell_type": "markdown",
   "metadata": {
    "id": "euQr57ooLW_e"
   },
   "source": [
    "# Array Operations\n",
    "\n",
    "NumPy is not just good at storing large amounts of data, it's also very efficient at performing calculations and makes carrying out these calculations very convenient. This notebook discusses some of these calculations and the syntax used to invoke them."
   ]
  },
  {
   "cell_type": "markdown",
   "metadata": {
    "id": "u5i0HFbT8wPP"
   },
   "source": [
    "## Arithmetic Operations\n",
    "\n",
    "Simple arithmetic operators can be performed using NumPy arrays. When such an operation is placed between two NumPy arrays, the operation is performed \"element-wise\". This means that the operation is performed on each element of the arrays to create the corresponding element of the new array. For instance:"
   ]
  },
  {
   "cell_type": "code",
   "execution_count": 1,
   "metadata": {
    "id": "JCRxTeXwLS4k"
   },
   "outputs": [
    {
     "name": "stdout",
     "output_type": "stream",
     "text": [
      "Addition:  [ 3  7 11]\n",
      "Subtraction:  [1 1 1]\n",
      "Multiplication:  [ 2 12 30]\n",
      "Division:  [2.         1.33333333 1.2       ]\n",
      "Exponentiation:  [   2   64 7776]\n",
      "Integer Division:  [2 1 1]\n",
      "Modulo:  [0 1 1]\n",
      "Negative:  [-2 -4 -6]\n"
     ]
    }
   ],
   "source": [
    "import numpy as np\n",
    "\n",
    "a = np.array([2,4,6])\n",
    "b = np.array([1,3,5])\n",
    "\n",
    "print(\"Addition: \", a + b)\n",
    "print(\"Subtraction: \", a - b)\n",
    "print(\"Multiplication: \", a * b)\n",
    "print(\"Division: \", a / b)\n",
    "print(\"Exponentiation: \", a ** b)\n",
    "print(\"Integer Division: \", a // b)\n",
    "print(\"Modulo: \", a % b)\n",
    "print(\"Negative: \", -a)"
   ]
  },
  {
   "cell_type": "markdown",
   "metadata": {
    "id": "CsDS8CwtC-mw"
   },
   "source": [
    "Note that, when operating on arrays in this way, both arrays must be the same dimension and size."
   ]
  },
  {
   "cell_type": "code",
   "execution_count": 2,
   "metadata": {
    "id": "YkAyNiKTBy62"
   },
   "outputs": [
    {
     "ename": "ValueError",
     "evalue": "operands could not be broadcast together with shapes (2,2) (4,) ",
     "output_type": "error",
     "traceback": [
      "\u001b[1;31m---------------------------------------------------------------------------\u001b[0m",
      "\u001b[1;31mValueError\u001b[0m                                Traceback (most recent call last)",
      "Cell \u001b[1;32mIn [2], line 7\u001b[0m\n\u001b[0;32m      4\u001b[0m a \u001b[39m=\u001b[39m np\u001b[39m.\u001b[39marange(\u001b[39m4\u001b[39m)\u001b[39m.\u001b[39mreshape([\u001b[39m2\u001b[39m,\u001b[39m2\u001b[39m])\n\u001b[0;32m      5\u001b[0m b \u001b[39m=\u001b[39m np\u001b[39m.\u001b[39marange(\u001b[39m1\u001b[39m,\u001b[39m5\u001b[39m)\n\u001b[1;32m----> 7\u001b[0m \u001b[39mprint\u001b[39m(a \u001b[39m+\u001b[39;49m b)\n",
      "\u001b[1;31mValueError\u001b[0m: operands could not be broadcast together with shapes (2,2) (4,) "
     ]
    }
   ],
   "source": [
    "import numpy as np\n",
    "\n",
    "# These arrays have the same number of elements but a different number of dimensions\n",
    "a = np.arange(4).reshape([2,2])\n",
    "b = np.arange(1,5)\n",
    "\n",
    "print(a + b)"
   ]
  },
  {
   "cell_type": "markdown",
   "metadata": {
    "id": "nHMa3tm6DK-K"
   },
   "source": [
    "## Applying the Same Operation to Every Element\n",
    "\n",
    "It's possible to apply the same operation to every element of an array using an operator and a scalar value. The array and the integer may be in either order."
   ]
  },
  {
   "cell_type": "code",
   "execution_count": 3,
   "metadata": {
    "id": "88r4jziiC78q"
   },
   "outputs": [
    {
     "name": "stdout",
     "output_type": "stream",
     "text": [
      "a:  [1 2 3]\n",
      "Addition:  [3 4 5]\n",
      "Left Subtraction:  [ 1  0 -1]\n",
      "Right Subtraction:  [-1  0  1]\n",
      "Multiplication:  [2 4 6]\n",
      "Left Division:  [0.5 1.  1.5]\n",
      "Right Division:  [2.         1.         0.66666667]\n",
      "Left Exponentiation:  [2 4 8]\n",
      "Right Exponentiation:  [1 4 9]\n",
      "Left Integer Division:  [2 1 0]\n",
      "Right Integer Division:  [0 1 1]\n",
      "Left Modulo:  [0 0 2]\n",
      "Right Modulo:  [1 0 1]\n"
     ]
    }
   ],
   "source": [
    "import numpy as np\n",
    "\n",
    "a = np.arange(1, 4)\n",
    "print(\"a: \", a)\n",
    "print(\"Addition: \", 2 + a)\n",
    "print(\"Left Subtraction: \", 2 - a)\n",
    "print(\"Right Subtraction: \", a - 2)\n",
    "print(\"Multiplication: \", a * 2)\n",
    "print(\"Left Division: \", a / 2)\n",
    "print(\"Right Division: \", 2 / a)\n",
    "print(\"Left Exponentiation: \", 2 ** a)\n",
    "print(\"Right Exponentiation: \", a ** 2)\n",
    "print(\"Left Integer Division: \", 2 // a)\n",
    "print(\"Right Integer Division: \", a // 2)\n",
    "print(\"Left Modulo: \", 2 % a)\n",
    "print(\"Right Modulo: \", a % 2)"
   ]
  },
  {
   "cell_type": "markdown",
   "metadata": {
    "id": "TdepIcpKuhlC"
   },
   "source": [
    "## Exercise\n",
    "\n",
    "Look at the code in the cell below, but don't run it yet. Instead, write down what you think will be printed in each case. Then, run the code and check you get the results you expect."
   ]
  },
  {
   "cell_type": "code",
   "execution_count": 4,
   "metadata": {
    "id": "cPW87SEVu2xR"
   },
   "outputs": [
    {
     "name": "stdout",
     "output_type": "stream",
     "text": [
      "Case 1:  [4 6]\n",
      "Case 2:  [0.5 1. ]\n",
      "Case 3:  [ 1 16]\n",
      "Case 4:  [1 0]\n",
      "Case 5:  [-5 -6]\n"
     ]
    }
   ],
   "source": [
    "import numpy as np\n",
    "\n",
    "a = np.array([1, 2])\n",
    "b = np.array([3, 4])\n",
    "\n",
    "print(\"Case 1: \", a + b) # [4, 6]\n",
    "print(\"Case 2: \", a / 2) # [0.5, 1]\n",
    "print(\"Case 3: \", a ** b) # [1, 16]\n",
    "print(\"Case 4: \", 2 - a) # [1, 0]\n",
    "print(\"Case 5: \", a - b * 2) # [-5, -6]"
   ]
  },
  {
   "cell_type": "markdown",
   "metadata": {
    "id": "dI0EufaRG5vq"
   },
   "source": [
    "## More Complex Functions\n",
    "\n",
    "Many complex mathematical functions which operate on scalars in Python are available from the ```math``` module, such as the ```sin``` function. These functions will work on NumPy arrays with a size of 1 (and return a scalar), but will not work on larger arrays:"
   ]
  },
  {
   "cell_type": "code",
   "execution_count": 5,
   "metadata": {
    "id": "ujJ6d7hnI2Hb"
   },
   "outputs": [
    {
     "name": "stdout",
     "output_type": "stream",
     "text": [
      "0.9092974268256817\n",
      "0.8414709848078965\n"
     ]
    },
    {
     "ename": "TypeError",
     "evalue": "only size-1 arrays can be converted to Python scalars",
     "output_type": "error",
     "traceback": [
      "\u001b[1;31m---------------------------------------------------------------------------\u001b[0m",
      "\u001b[1;31mTypeError\u001b[0m                                 Traceback (most recent call last)",
      "Cell \u001b[1;32mIn [5], line 6\u001b[0m\n\u001b[0;32m      4\u001b[0m \u001b[39mprint\u001b[39m(math\u001b[39m.\u001b[39msin(\u001b[39m2\u001b[39m))\n\u001b[0;32m      5\u001b[0m \u001b[39mprint\u001b[39m(math\u001b[39m.\u001b[39msin(np\u001b[39m.\u001b[39marray([\u001b[39m1\u001b[39m])))\n\u001b[1;32m----> 6\u001b[0m \u001b[39mprint\u001b[39m(math\u001b[39m.\u001b[39;49msin(np\u001b[39m.\u001b[39;49marange(\u001b[39m3\u001b[39;49m)))\n",
      "\u001b[1;31mTypeError\u001b[0m: only size-1 arrays can be converted to Python scalars"
     ]
    }
   ],
   "source": [
    "import numpy as np\n",
    "import math\n",
    "\n",
    "print(math.sin(2))\n",
    "print(math.sin(np.array([1])))\n",
    "print(math.sin(np.arange(3)))"
   ]
  },
  {
   "cell_type": "markdown",
   "metadata": {
    "id": "a9i2LXv0JW-i"
   },
   "source": [
    "Fortunately, many of these functions are replicated within the NumPy array and will operate element-wise on an array passed to it:"
   ]
  },
  {
   "cell_type": "code",
   "execution_count": 6,
   "metadata": {
    "id": "UwkG-8HLDcAK"
   },
   "outputs": [
    {
     "name": "stdout",
     "output_type": "stream",
     "text": [
      "a:  [0.25 0.5  0.75]\n",
      "sin:  [0.24740396 0.47942554 0.68163876]\n",
      "arccos:  [1.31811607 1.04719755 0.72273425]\n",
      "log:  [-1.38629436 -0.69314718 -0.28768207]\n",
      "log2:  [-2.        -1.        -0.4150375]\n",
      "log10:  [-0.60205999 -0.30103    -0.12493874]\n",
      "sqrt:  [0.5        0.70710678 0.8660254 ]\n",
      "sum:  1.5\n"
     ]
    }
   ],
   "source": [
    "import numpy as np\n",
    "\n",
    "# Here we multiply the array [1 2 3] by a quarter\n",
    "a = np.arange(1,4) * 0.25\n",
    "print(\"a: \", a)\n",
    "print(\"sin: \", np.sin(a))\n",
    "print(\"arccos: \", np.arccos(a))\n",
    "print(\"log: \", np.log(a))\n",
    "print(\"log2: \", np.log2(a))\n",
    "print(\"log10: \", np.log10(a))\n",
    "print(\"sqrt: \", np.sqrt(a))\n",
    "print(\"sum: \", np.sum(a))"
   ]
  },
  {
   "cell_type": "markdown",
   "metadata": {
    "id": "Oy9u2_oqeaxo"
   },
   "source": [
    "## Vector and Matrix Operations\n",
    "\n",
    "NumPy is designed to hold vectors, matrices, tensors and so on. It also contains functions to perform common operations relevant to these data types. For instance:"
   ]
  },
  {
   "cell_type": "code",
   "execution_count": 7,
   "metadata": {
    "id": "8_l_TivNHFk3"
   },
   "outputs": [
    {
     "name": "stdout",
     "output_type": "stream",
     "text": [
      "Matrix:  [[0 1]\n",
      " [2 3]]\n",
      "Vector1:  [1 2]\n",
      "Vector2:  [3 4]\n",
      "Dot product 11\n",
      "Matrix-vector multiplication:  [2 8]\n",
      "Matrix-matrix multiplication:  [[ 2  3]\n",
      " [ 6 11]]\n",
      "Matrix power:  [[ 6 11]\n",
      " [22 39]]\n",
      "Determinant:  -2.0\n",
      "Transpose:  [[0 2]\n",
      " [1 3]]\n",
      "Inverse:  [[-1.5  0.5]\n",
      " [ 1.   0. ]]\n",
      "Eigenvectors and eigenvalues:  (array([-0.56155281,  3.56155281]), array([[-0.87192821, -0.27032301],\n",
      "       [ 0.48963374, -0.96276969]]))\n"
     ]
    }
   ],
   "source": [
    "import numpy as np\n",
    "\n",
    "matrix = np.arange(4).reshape([2,2])\n",
    "vector1 = np.array([1,2])\n",
    "vector2 = np.array([3,4])\n",
    "\n",
    "print(\"Matrix: \", matrix)\n",
    "print(\"Vector1: \", vector1)\n",
    "print(\"Vector2: \", vector2)\n",
    "\n",
    "print(\"Dot product\", np.dot(vector1, vector2))\n",
    "print(\"Matrix-vector multiplication: \", np.matmul(matrix, vector1))\n",
    "print(\"Matrix-matrix multiplication: \", np.matmul(matrix, matrix))\n",
    "print(\"Matrix power: \", np.linalg.matrix_power(matrix, 3))\n",
    "print(\"Determinant: \", np.linalg.det(matrix))\n",
    "print(\"Transpose: \", np.transpose(matrix))\n",
    "print(\"Inverse: \", np.linalg.inv(matrix))\n",
    "print(\"Eigenvectors and eigenvalues: \", np.linalg.eig(matrix))"
   ]
  },
  {
   "attachments": {},
   "cell_type": "markdown",
   "metadata": {
    "id": "prYsG9Ssnx5N"
   },
   "source": [
    "## Exercise\n",
    "\n",
    "A location in 3d Cartesian space may be represented by (x,y,z) coordinates. This may be represented by a\n",
    "dimension 1 array with size 3.\n",
    "\n",
    "In the cell below:\n",
    "* Create a 1d array with three elements to represent Position A, which is at (1,2,1)\n",
    "* Calculate the location of Position B, which has a displacement of (3,-4,1) from Position A\n",
    "* Calculate the location of Position C, which is twice as far from the origin as Position B\n",
    "* Calculate the location of position D, which is found by rotating position C $45^{o}$ around the z axis (clockwise\n",
    "when viewed from above). To rotate a location around the z axis in this manner by an angle $\\theta$, it may be\n",
    "multiplied by the matrix:\n",
    "$\n",
    "\\begin{pmatrix}\n",
    "\\cos(\\theta) & -\\sin(\\theta) & 0 \\\\ \n",
    "\\sin(\\theta) & \\cos(\\theta) & 0 \\\\ \n",
    "0 & 0 & 1\n",
    "\\end{pmatrix}\n",
    "$\n",
    "* Calculate the straight line distance between Position D and the origin"
   ]
  },
  {
   "cell_type": "code",
   "execution_count": 11,
   "metadata": {
    "id": "lykqChQktPed"
   },
   "outputs": [
    {
     "name": "stdout",
     "output_type": "stream",
     "text": [
      "[1 2 1]\n",
      "[ 4 -2  2]\n",
      "[ 8 -4  4]\n",
      "[8.48528137 2.82842712 4.        ]\n",
      "9.797958971132713\n"
     ]
    }
   ],
   "source": [
    "a = np.array([1,2,1])\n",
    "print(a)\n",
    "b = a + np.array([3,-4,1])\n",
    "print(b)\n",
    "c = 2 * b\n",
    "print(c)\n",
    "d = np.matmul(np.array([[np.cos(np.pi/4),-np.sin(np.pi/4),0],[np.sin(np.pi/4),np.cos(np.pi/4),0],[0,0,1]]),c)\n",
    "print(d)\n",
    "distance = np.sqrt(np.dot(d,d))\n",
    "print(distance)"
   ]
  },
  {
   "cell_type": "code",
   "execution_count": 12,
   "metadata": {
    "cellView": "form",
    "id": "ZRj4xpGYXLnD"
   },
   "outputs": [
    {
     "name": "stdout",
     "output_type": "stream",
     "text": [
      "Poition A:  [1 2 1]\n",
      "Position B:  [ 4 -2  2]\n",
      "Position C:  [ 8 -4  4]\n",
      "Rotation matrix:  [[ 0.70710678 -0.70710678  0.        ]\n",
      " [ 0.70710678  0.70710678  0.        ]\n",
      " [ 0.          0.          1.        ]]\n",
      "Position D:  [8.48528137 2.82842712 4.        ]\n",
      "Distance:  9.797958971132713\n"
     ]
    }
   ],
   "source": [
    "#@title\n",
    "import numpy as np\n",
    "import math\n",
    "\n",
    "# Define Position A\n",
    "pos_a = np.array([1,2,1])\n",
    "print(\"Poition A: \", pos_a)\n",
    "\n",
    "# Add the specified displacement to position A to get position B\n",
    "pos_b = pos_a + np.array([3,-4,1])\n",
    "print(\"Position B: \", pos_b)\n",
    "\n",
    "# Double the values in position B to get position C\n",
    "pos_c = pos_b * 2\n",
    "print(\"Position C: \", pos_c)\n",
    "\n",
    "# Calcualte 45 degrees in radians\n",
    "radians_45 = 45 * math.pi / 180\n",
    "# Create the rotation matrix\n",
    "rotation_matrix = np.array([[math.cos(radians_45), -math.sin(radians_45), 0], [math.sin(radians_45), math.cos(radians_45), 0], [0,0,1]])\n",
    "print(\"Rotation matrix: \", rotation_matrix)\n",
    "# Operate of position C with the rotation matrix to get position D\n",
    "pos_d = np.matmul(rotation_matrix, pos_c)\n",
    "print(\"Position D: \", pos_d)\n",
    "\n",
    "# Calcualte the distance between position D and the origin\n",
    "distance_d = math.sqrt(np.dot(pos_d, pos_d))\n",
    "print(\"Distance: \", distance_d)"
   ]
  },
  {
   "attachments": {},
   "cell_type": "markdown",
   "metadata": {
    "id": "2cfPmlVeD5xN"
   },
   "source": [
    "## Extension: Solving Matrix Equations and Sparse Matrices\n",
    "\n",
    "Sometimes it can be desirable to solve a matrix equation of the form $Mx=b$ where $M$ is a matrix, $b$ is a known vector and $x$ is an unknown vector whose value is to be found. For instance, consider the equation:\n",
    "\n",
    "$$\\begin{pmatrix}\n",
    "1 & 2 & 3\\\\ \n",
    "2 & 1 & 0\\\\ \n",
    "4 & 2 & 1\n",
    "\\end{pmatrix}\n",
    "\\vec{x}\n",
    "=\n",
    "\\begin{pmatrix}\n",
    "4\\\\ \n",
    "5\\\\ \n",
    "10\n",
    "\\end{pmatrix}$$\n",
    "\n",
    "We can use the ```linalg.solve``` function to solve an equation of this type as follows:"
   ]
  },
  {
   "cell_type": "code",
   "execution_count": null,
   "metadata": {
    "id": "Wu0240pJEAdt"
   },
   "outputs": [],
   "source": [
    "import numpy as np\n",
    "\n",
    "m = np.array([[1,2,3], [2,1,0], [4,2,1]])\n",
    "b = np.array([4,5,10])\n",
    "\n",
    "x = np.linalg.solve(m, b)\n",
    "\n",
    "print(x)"
   ]
  },
  {
   "cell_type": "markdown",
   "metadata": {
    "id": "b-TUc1BYIQXk"
   },
   "source": [
    "However, this function becomes slower and slower as the size of matrix gets larger. For a particular type of matrix that contains mostly zeros, this can be sped up by storing the matrix as a sparse matrix. This means that only non-zero values will be stored and only these non-zero values will be used in calculations. This dramatically reduces memory usage and the computational cost of the solving the matrix equation. There are may [types of sparse matrix included in SciPy](https://docs.scipy.org/doc/scipy/reference/sparse.html), but we will pick the [compressed row storage matrix](https://docs.scipy.org/doc/scipy/reference/generated/scipy.sparse.csr_matrix.html#scipy.sparse.csr_matrix) for this example (see [here](https://en.wikipedia.org/wiki/Sparse_matrix#Compressed_sparse_row_(CSR,_CRS_or_Yale_format) for a rough description of how this works). The matrix we will solve for will have the value of 1 along the central diagonal and -0.5 on the adjacent diagonals. The array on the left-hand side will have a value of 1.\n",
    "\n",
    "There are [many sovlers](https://docs.scipy.org/doc/scipy/reference/sparse.linalg.html) included to be used with sparse matrices. Which one to use is not always a simple question. For this example we'll use the [conjugate gradient solver](https://docs.scipy.org/doc/scipy/reference/generated/scipy.sparse.linalg.cg.html#scipy.sparse.linalg.cg) (see [here](https://docs.scipy.org/doc/scipy/reference/generated/scipy.sparse.linalg.cg.html#scipy.sparse.linalg.cg) for a description of how this method works)."
   ]
  },
  {
   "cell_type": "code",
   "execution_count": null,
   "metadata": {
    "id": "PWefU8KNFKHb"
   },
   "outputs": [],
   "source": [
    "from scipy.sparse import csr_matrix\n",
    "from scipy.sparse.linalg import cg\n",
    "\n",
    "# Provide the dimensions of the matrix as a tuple\n",
    "m = csr_matrix((1000, 1000))\n",
    "\n",
    "# Write values to the lead diagonal\n",
    "for i in range(1000):\n",
    "  m[i,i] = 1\n",
    "\n",
    "# Write values to the diagonals next to the lead diagonal\n",
    "for i in range(999):\n",
    "  m[i, i+1] = -0.5\n",
    "  m[i+1, i] = -0.5\n",
    "\n",
    "print(\"M:\")\n",
    "# When we print the matrix, the coordinates of the non-zero values and their values will be printed\n",
    "print(m)\n",
    "\n",
    "b = np.zeros(1000) + 1\n",
    "print(\"B: \", b)\n",
    "\n",
    "x = cg(m, b)\n",
    "\n",
    "# Note the zero that is included in the tuple that was returned is an integer which indicates teh conjugate gradient solver converged correctly and found a solution\n",
    "print(\"X: \", x)"
   ]
  },
  {
   "cell_type": "markdown",
   "metadata": {
    "id": "tEWHML18WGTP"
   },
   "source": [
    "This is an example of how Scipy can be used to solve linear algebra problems efficiently."
   ]
  }
 ],
 "metadata": {
  "colab": {
   "authorship_tag": "ABX9TyOSGsmoKYdTnuz0ywrUaRmc",
   "collapsed_sections": [],
   "name": "Array Operations.ipynb",
   "provenance": []
  },
  "kernelspec": {
   "display_name": "Python 3",
   "language": "python",
   "name": "python3"
  },
  "language_info": {
   "codemirror_mode": {
    "name": "ipython",
    "version": 3
   },
   "file_extension": ".py",
   "mimetype": "text/x-python",
   "name": "python",
   "nbconvert_exporter": "python",
   "pygments_lexer": "ipython3",
   "version": "3.9.5 (tags/v3.9.5:0a7dcbd, May  3 2021, 17:27:52) [MSC v.1928 64 bit (AMD64)]"
  },
  "vscode": {
   "interpreter": {
    "hash": "87c45c9fa338d254c7af859b02d158e07135bc8a08c08316825ce6bf06b146fb"
   }
  }
 },
 "nbformat": 4,
 "nbformat_minor": 1
}
